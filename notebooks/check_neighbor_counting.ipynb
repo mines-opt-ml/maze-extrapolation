{
 "cells": [
  {
   "cell_type": "code",
   "execution_count": 1,
   "metadata": {},
   "outputs": [],
   "source": [
    "# Import necessary modules\n",
    "\n",
    "import sys\n",
    "import os\n",
    "\n",
    "# Set root folder to project root\n",
    "os.chdir(os.path.dirname(os.getcwd()))\n",
    "\n",
    "# Add root folder to path\n",
    "sys.path.append(os.getcwd())\n",
    "\n",
    "from src.utils.loading import get_mazes\n",
    "from src.utils.plotting import plot_mazes"
   ]
  },
  {
   "cell_type": "code",
   "execution_count": 2,
   "metadata": {},
   "outputs": [
    {
     "name": "stdout",
     "output_type": "stream",
     "text": [
      "1.0\n"
     ]
    }
   ],
   "source": [
    "# Load mazes\n",
    "\n",
    "from src.utils.testing import count_start_neighbors\n",
    "\n",
    "inputs, _ = get_mazes(dataset='maze-dataset', maze_size=9, num_mazes=100, deadend_start=False)\n",
    "\n",
    "neighbors = count_start_neighbors(inputs)\n",
    "\n",
    "maze_idx_start = 0\n",
    "maze_idx_end = 10\n",
    "print(neighbors[maze_idx_start:maze_idx_end])\n",
    "plot_mazes(inputs[maze_idx_start:maze_idx_end])"
   ]
  },
  {
   "cell_type": "code",
   "execution_count": null,
   "metadata": {},
   "outputs": [],
   "source": []
  }
 ],
 "metadata": {
  "kernelspec": {
   "display_name": "env",
   "language": "python",
   "name": "python3"
  },
  "language_info": {
   "codemirror_mode": {
    "name": "ipython",
    "version": 3
   },
   "file_extension": ".py",
   "mimetype": "text/x-python",
   "name": "python",
   "nbconvert_exporter": "python",
   "pygments_lexer": "ipython3",
   "version": "3.10.14"
  }
 },
 "nbformat": 4,
 "nbformat_minor": 2
}
