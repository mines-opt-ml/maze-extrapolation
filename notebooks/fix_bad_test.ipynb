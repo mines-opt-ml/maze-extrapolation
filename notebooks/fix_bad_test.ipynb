{
 "cells": [
  {
   "cell_type": "code",
   "execution_count": 1,
   "metadata": {},
   "outputs": [],
   "source": [
    "# Import necessary modules\n",
    "\n",
    "import sys\n",
    "import os\n",
    "\n",
    "# Set root folder to project root\n",
    "os.chdir(os.path.dirname(os.getcwd()))\n",
    "\n",
    "# Add root folder to path\n",
    "sys.path.append(os.getcwd())\n",
    "\n",
    "import pickle\n",
    "\n",
    "from src.utils.testing import Test"
   ]
  },
  {
   "cell_type": "code",
   "execution_count": 2,
   "metadata": {},
   "outputs": [
    {
     "name": "stdout",
     "output_type": "stream",
     "text": [
      "\n",
      "model-pi_net_1_dataset-maze-dataset_num_mazes-100_iters-[30, 100, 300, 1000, 3000]_maze_sizes-[9, 19, 29, 39, 49, 59, 69, 79, 89, 99]_percolations-[0.0]_deadend_start-False\n",
      "\n",
      "\n",
      "Model: pi_net_1\n",
      "Dataset: maze-dataset\n",
      "Num_mazes: 100\n",
      "Iters: [30, 100, 300, 1000, 3000]\n",
      "Maze_sizes: [9, 19, 29, 39, 49, 59, 69, 79, 89, 99]\n",
      "Percolations: [0.0]\n",
      "Deadend_start: False\n",
      "Time: 1002.55min\n",
      "\n",
      "Maze_size: 9, Iter: 30, Accuracy: 0.93, Time: 2.21s\n",
      "Maze_size: 9, Iter: 100, Accuracy: 0.94, Time: 7.37s\n",
      "Maze_size: 9, Iter: 300, Accuracy: 0.94, Time: 22.10s\n",
      "Maze_size: 9, Iter: 1000, Accuracy: 0.94, Time: 1.23min\n",
      "Maze_size: 9, Iter: 3000, Accuracy: 0.94, Time: 3.68min\n",
      "Maze_size: 19, Iter: 30, Accuracy: 0.21, Time: 5.09s\n",
      "Maze_size: 19, Iter: 100, Accuracy: 0.92, Time: 16.96s\n",
      "Maze_size: 19, Iter: 300, Accuracy: 0.93, Time: 50.88s\n",
      "Maze_size: 19, Iter: 1000, Accuracy: 0.93, Time: 2.83min\n",
      "Maze_size: 19, Iter: 3000, Accuracy: 0.93, Time: 8.48min\n",
      "Maze_size: 29, Iter: 30, Accuracy: 0.02, Time: 10.17s\n",
      "Maze_size: 29, Iter: 100, Accuracy: 0.59, Time: 33.88s\n",
      "Maze_size: 29, Iter: 300, Accuracy: 0.94, Time: 1.69min\n",
      "Maze_size: 29, Iter: 1000, Accuracy: 0.94, Time: 5.65min\n",
      "Maze_size: 29, Iter: 3000, Accuracy: 0.94, Time: 16.94min\n",
      "Maze_size: 39, Iter: 30, Accuracy: 0.0, Time: 17.24s\n",
      "Maze_size: 39, Iter: 100, Accuracy: 0.18, Time: 57.46s\n",
      "Maze_size: 39, Iter: 300, Accuracy: 0.96, Time: 2.87min\n",
      "Maze_size: 39, Iter: 1000, Accuracy: 0.98, Time: 9.58min\n",
      "Maze_size: 39, Iter: 3000, Accuracy: 0.98, Time: 28.73min\n",
      "Maze_size: 49, Iter: 30, Accuracy: 0.0, Time: 26.40s\n",
      "Maze_size: 49, Iter: 100, Accuracy: 0.04, Time: 1.47min\n",
      "Maze_size: 49, Iter: 300, Accuracy: 0.73, Time: 4.40min\n",
      "Maze_size: 49, Iter: 1000, Accuracy: 0.92, Time: 14.66min\n",
      "Maze_size: 49, Iter: 3000, Accuracy: 0.92, Time: 43.99min\n",
      "Maze_size: 59, Iter: 30, Accuracy: 0.0, Time: 37.23s\n",
      "Maze_size: 59, Iter: 100, Accuracy: 0.02, Time: 2.07min\n",
      "Maze_size: 59, Iter: 300, Accuracy: 0.49, Time: 6.20min\n",
      "Maze_size: 59, Iter: 1000, Accuracy: 0.9, Time: 20.68min\n",
      "Maze_size: 59, Iter: 3000, Accuracy: 0.9, Time: 62.05min\n",
      "Maze_size: 69, Iter: 30, Accuracy: 0.0, Time: 52.41s\n",
      "Maze_size: 69, Iter: 100, Accuracy: 0.0, Time: 2.91min\n",
      "Maze_size: 69, Iter: 300, Accuracy: 0.3, Time: 8.74min\n",
      "Maze_size: 69, Iter: 1000, Accuracy: 0.91, Time: 29.12min\n",
      "Maze_size: 69, Iter: 3000, Accuracy: 0.91, Time: 87.36min\n",
      "Maze_size: 79, Iter: 30, Accuracy: 0.0, Time: 1.12min\n",
      "Maze_size: 79, Iter: 100, Accuracy: 0.0, Time: 3.75min\n",
      "Maze_size: 79, Iter: 300, Accuracy: 0.11, Time: 11.24min\n",
      "Maze_size: 79, Iter: 1000, Accuracy: 0.85, Time: 37.48min\n",
      "Maze_size: 79, Iter: 3000, Accuracy: 0.85, Time: 112.45min\n",
      "Maze_size: 89, Iter: 30, Accuracy: 0.0, Time: 1.42min\n",
      "Maze_size: 89, Iter: 100, Accuracy: 0.0, Time: 4.72min\n",
      "Maze_size: 89, Iter: 300, Accuracy: 0.06, Time: 14.16min\n",
      "Maze_size: 89, Iter: 1000, Accuracy: 0.88, Time: 47.18min\n",
      "Maze_size: 89, Iter: 3000, Accuracy: 0.88, Time: 141.55min\n",
      "Maze_size: 99, Iter: 30, Accuracy: 0.0, Time: 1.74min\n",
      "Maze_size: 99, Iter: 100, Accuracy: 0.0, Time: 5.79min\n",
      "Maze_size: 99, Iter: 300, Accuracy: 0.01, Time: 17.37min\n",
      "Maze_size: 99, Iter: 1000, Accuracy: 0.69, Time: 57.90min\n",
      "Maze_size: 99, Iter: 3000, Accuracy: 0.69, Time: 173.70min\n"
     ]
    }
   ],
   "source": [
    "# Load test\n",
    "\n",
    "# Specify file to load test from\n",
    "model_name = 'pi_net'\n",
    "deadend_start = False\n",
    "file_name = f'outputs/extrapolation/tests/bad_model-{model_name}_dataset-maze-dataset_num_mazes-100_iters-[30, 100, 300, 1000, 3000]_maze_sizes-[9, 19, 29, 39, 49, 59, 69, 79, 89, 99]_percolations-[0.0]_deadend_start-{deadend_start}.pkl'\n",
    "\n",
    "# Load the Test object and print accuracies\n",
    "with open(file_name, 'rb') as f:\n",
    "    old_test = pickle.load(f)\n",
    "print()\n",
    "print(old_test.get_name())\n",
    "print()\n",
    "old_test.print()"
   ]
  },
  {
   "cell_type": "code",
   "execution_count": 3,
   "metadata": {},
   "outputs": [
    {
     "name": "stdout",
     "output_type": "stream",
     "text": [
      "Using device: cuda\n",
      "Loaded pi_net to cuda\n",
      "Evaluating extrapolation over maze sizes: [9, 19, 29, 39, 49, 59, 69, 79, 89, 99]\n"
     ]
    }
   ],
   "source": [
    "# Create new test object with same parameters as old test object\n",
    "new_test = Test(model_name=model_name,\n",
    "            dataset='maze-dataset',\n",
    "            num_mazes=100,\n",
    "            iters=[30, 100, 300, 1000, 3000],\n",
    "            maze_sizes=[9, 19, 29, 39, 49, 59, 69, 79, 89, 99],\n",
    "            percolations=[0.00],# 0.01, 0.02, 0.03, 0.04],\n",
    "            deadend_start=deadend_start,\n",
    "            batch_size=1)\n",
    "new_test.corrects = old_test.corrects\n",
    "new_test.accuracies = old_test.accuracies\n",
    "new_test.start_neighbors = old_test.start_neighbors\n",
    "new_test.times = old_test.times\n",
    "\n",
    "# Save test as new test object instead of old test object\n",
    "file_name = f'outputs/extrapolation/tests/model-{model_name}_dataset-maze-dataset_num_mazes-100_iters-[30, 100, 300, 1000, 3000]_maze_sizes-[9, 19, 29, 39, 49, 59, 69, 79, 89, 99]_percolations-[0.0]_deadend_start-{deadend_start}.pkl'\n",
    "with open(file_name, 'wb') as f:\n",
    "    pickle.dump(new_test, f)\n"
   ]
  }
 ],
 "metadata": {
  "kernelspec": {
   "display_name": "env",
   "language": "python",
   "name": "python3"
  },
  "language_info": {
   "codemirror_mode": {
    "name": "ipython",
    "version": 3
   },
   "file_extension": ".py",
   "mimetype": "text/x-python",
   "name": "python",
   "nbconvert_exporter": "python",
   "pygments_lexer": "ipython3",
   "version": "3.10.14"
  }
 },
 "nbformat": 4,
 "nbformat_minor": 2
}
