{
 "cells": [
  {
   "cell_type": "code",
   "execution_count": 1,
   "metadata": {},
   "outputs": [],
   "source": [
    "# Import necessary modules\n",
    "\n",
    "import sys\n",
    "import os\n",
    "\n",
    "# Set root folder to project root\n",
    "os.chdir(os.path.dirname(os.getcwd()))\n",
    "\n",
    "# Add root folder to path\n",
    "sys.path.append(os.getcwd())\n",
    "\n",
    "from src.utils.loading import load_model, get_mazes\n",
    "from src.utils.plotting import plot_mazes\n",
    "from src.utils.tda import get_tda\n",
    "from src.utils.plotting import plot_diagram\n",
    "from src.utils.tda import Analysis"
   ]
  },
  {
   "cell_type": "code",
   "execution_count": 2,
   "metadata": {},
   "outputs": [
    {
     "name": "stdout",
     "output_type": "stream",
     "text": [
      "Using device: mps\n",
      "Loaded dt_net to mps\n"
     ]
    },
    {
     "ename": "AssertionError",
     "evalue": "",
     "output_type": "error",
     "traceback": [
      "\u001b[0;31m---------------------------------------------------------------------------\u001b[0m",
      "\u001b[0;31mAssertionError\u001b[0m                            Traceback (most recent call last)",
      "Cell \u001b[0;32mIn[2], line 5\u001b[0m\n\u001b[1;32m      1\u001b[0m \u001b[38;5;66;03m# Load model and mazes\u001b[39;00m\n\u001b[1;32m      3\u001b[0m model \u001b[38;5;241m=\u001b[39m load_model(\u001b[38;5;124m'\u001b[39m\u001b[38;5;124mdt_net\u001b[39m\u001b[38;5;124m'\u001b[39m)\n\u001b[0;32m----> 5\u001b[0m inputs, solutions \u001b[38;5;241m=\u001b[39m \u001b[43mget_mazes\u001b[49m\u001b[43m(\u001b[49m\n\u001b[1;32m      6\u001b[0m \u001b[43m    \u001b[49m\u001b[43mdataset\u001b[49m\u001b[38;5;241;43m=\u001b[39;49m\u001b[38;5;124;43m'\u001b[39;49m\u001b[38;5;124;43mmaze-dataset\u001b[39;49m\u001b[38;5;124;43m'\u001b[39;49m\u001b[43m,\u001b[49m\u001b[43m \u001b[49m\n\u001b[1;32m      7\u001b[0m \u001b[43m    \u001b[49m\u001b[43mmaze_size\u001b[49m\u001b[38;5;241;43m=\u001b[39;49m\u001b[38;5;241;43m30\u001b[39;49m\u001b[43m,\u001b[49m\u001b[43m \u001b[49m\n\u001b[1;32m      8\u001b[0m \u001b[43m    \u001b[49m\u001b[43mnum_mazes\u001b[49m\u001b[38;5;241;43m=\u001b[39;49m\u001b[38;5;241;43m5\u001b[39;49m\u001b[43m,\u001b[49m\n\u001b[1;32m      9\u001b[0m \u001b[43m    \u001b[49m\u001b[43mpercolation\u001b[49m\u001b[38;5;241;43m=\u001b[39;49m\u001b[38;5;241;43m0.0\u001b[39;49m\u001b[43m,\u001b[49m\n\u001b[1;32m     10\u001b[0m \u001b[43m    \u001b[49m\u001b[43mdeadend_start\u001b[49m\u001b[38;5;241;43m=\u001b[39;49m\u001b[38;5;28;43;01mTrue\u001b[39;49;00m\u001b[43m)\u001b[49m\n",
      "File \u001b[0;32m~/My-Drive/Research/Fixed_Point_Networks/Implicit_Thinking/DeepThinkingV2/src/utils/loading.py:71\u001b[0m, in \u001b[0;36mget_mazes\u001b[0;34m(dataset, maze_size, num_mazes, gen, percolation, deadend_start)\u001b[0m\n\u001b[1;32m     68\u001b[0m \u001b[38;5;28;01mif\u001b[39;00m dataset \u001b[38;5;241m==\u001b[39m \u001b[38;5;124m'\u001b[39m\u001b[38;5;124mmaze-dataset\u001b[39m\u001b[38;5;124m'\u001b[39m:\n\u001b[1;32m     69\u001b[0m \u001b[38;5;250m    \u001b[39m\u001b[38;5;124;03m\"\"\" https://github.com/understanding-search/maze-dataset \"\"\"\u001b[39;00m\n\u001b[0;32m---> 71\u001b[0m     \u001b[38;5;28;01massert\u001b[39;00m maze_size \u001b[38;5;241m%\u001b[39m \u001b[38;5;241m2\u001b[39m \u001b[38;5;241m==\u001b[39m \u001b[38;5;241m1\u001b[39m\n\u001b[1;32m     72\u001b[0m     grid_n \u001b[38;5;241m=\u001b[39m (maze_size \u001b[38;5;241m+\u001b[39m \u001b[38;5;241m1\u001b[39m) \u001b[38;5;241m/\u001b[39m\u001b[38;5;241m/\u001b[39m \u001b[38;5;241m2\u001b[39m\n\u001b[1;32m     74\u001b[0m     \u001b[38;5;66;03m# Generate base maze dataset\u001b[39;00m\n",
      "\u001b[0;31mAssertionError\u001b[0m: "
     ]
    }
   ],
   "source": [
    "# Load model and mazes\n",
    "\n",
    "model = load_model('dt_net')\n",
    "\n",
    "inputs, solutions = get_mazes(\n",
    "    dataset='maze-dataset', \n",
    "    maze_size=31, \n",
    "    num_mazes=5,\n",
    "    percolation=0.0,\n",
    "    deadend_start=True)"
   ]
  },
  {
   "cell_type": "code",
   "execution_count": null,
   "metadata": {},
   "outputs": [
    {
     "ename": "RuntimeError",
     "evalue": "Invalid buffer size: 39.79 GB",
     "output_type": "error",
     "traceback": [
      "\u001b[0;31m---------------------------------------------------------------------------\u001b[0m",
      "\u001b[0;31mRuntimeError\u001b[0m                              Traceback (most recent call last)",
      "Cell \u001b[0;32mIn[3], line 4\u001b[0m\n\u001b[1;32m      1\u001b[0m start_latents \u001b[38;5;241m=\u001b[39m \u001b[38;5;241m1000\u001b[39m\n\u001b[1;32m      3\u001b[0m latents \u001b[38;5;241m=\u001b[39m model\u001b[38;5;241m.\u001b[39minput_to_latent(inputs)\n\u001b[0;32m----> 4\u001b[0m latents \u001b[38;5;241m=\u001b[39m \u001b[43mmodel\u001b[49m\u001b[38;5;241;43m.\u001b[39;49m\u001b[43mlatent_forward\u001b[49m\u001b[43m(\u001b[49m\u001b[43mlatents\u001b[49m\u001b[43m,\u001b[49m\u001b[43minputs\u001b[49m\u001b[43m,\u001b[49m\u001b[43miters\u001b[49m\u001b[38;5;241;43m=\u001b[39;49m\u001b[38;5;28;43mlist\u001b[39;49m\u001b[43m(\u001b[49m\u001b[38;5;28;43mrange\u001b[39;49m\u001b[43m(\u001b[49m\u001b[43mstart_latents\u001b[49m\u001b[43m,\u001b[49m\u001b[38;5;241;43m1401\u001b[39;49m\u001b[43m)\u001b[49m\u001b[43m)\u001b[49m\u001b[43m)\u001b[49m\n",
      "File \u001b[0;32m~/My-Drive/Research/Fixed_Point_Networks/Implicit_Thinking/DeepThinkingV2/src/models/dt_net.py:57\u001b[0m, in \u001b[0;36mDTNet.latent_forward\u001b[0;34m(self, latents, inputs, iters, grad)\u001b[0m\n\u001b[1;32m     55\u001b[0m     \u001b[38;5;28;01mreturn\u001b[39;00m latents\n\u001b[1;32m     56\u001b[0m \u001b[38;5;28;01melif\u001b[39;00m \u001b[38;5;28mtype\u001b[39m(iters) \u001b[38;5;241m==\u001b[39m \u001b[38;5;28mlist\u001b[39m:\n\u001b[0;32m---> 57\u001b[0m     latents_series \u001b[38;5;241m=\u001b[39m \u001b[43mtorch\u001b[49m\u001b[38;5;241;43m.\u001b[39;49m\u001b[43mzeros\u001b[49m\u001b[43m(\u001b[49m\u001b[43m(\u001b[49m\u001b[38;5;28;43mlen\u001b[39;49m\u001b[43m(\u001b[49m\u001b[43miters\u001b[49m\u001b[43m)\u001b[49m\u001b[43m,\u001b[49m\u001b[43m)\u001b[49m\u001b[43m \u001b[49m\u001b[38;5;241;43m+\u001b[39;49m\u001b[43m \u001b[49m\u001b[38;5;28;43mtuple\u001b[39;49m\u001b[43m(\u001b[49m\u001b[43mlatents\u001b[49m\u001b[38;5;241;43m.\u001b[39;49m\u001b[43mshape\u001b[49m\u001b[43m)\u001b[49m\u001b[43m,\u001b[49m\u001b[43m \u001b[49m\u001b[43mdtype\u001b[49m\u001b[38;5;241;43m=\u001b[39;49m\u001b[43mlatents\u001b[49m\u001b[38;5;241;43m.\u001b[39;49m\u001b[43mdtype\u001b[49m\u001b[43m,\u001b[49m\u001b[43m \u001b[49m\u001b[43mdevice\u001b[49m\u001b[38;5;241;43m=\u001b[39;49m\u001b[43mlatents\u001b[49m\u001b[38;5;241;43m.\u001b[39;49m\u001b[43mdevice\u001b[49m\u001b[43m)\u001b[49m\n\u001b[1;32m     58\u001b[0m     \u001b[38;5;28;01mfor\u001b[39;00m i \u001b[38;5;129;01min\u001b[39;00m \u001b[38;5;28mrange\u001b[39m(\u001b[38;5;241m1\u001b[39m, \u001b[38;5;28mmax\u001b[39m(iters)\u001b[38;5;241m+\u001b[39m\u001b[38;5;241m1\u001b[39m):\n\u001b[1;32m     59\u001b[0m         latents \u001b[38;5;241m=\u001b[39m \u001b[38;5;28mself\u001b[39m\u001b[38;5;241m.\u001b[39mrecur_block(torch\u001b[38;5;241m.\u001b[39mcat([latents, inputs], \u001b[38;5;241m1\u001b[39m))\n",
      "\u001b[0;31mRuntimeError\u001b[0m: Invalid buffer size: 39.79 GB"
     ]
    }
   ],
   "source": [
    "#start_latents = 1000\n",
    "\n",
    "#latents = model.input_to_latent(inputs)\n",
    "#latents = model.latent_forward(latents,inputs,iters=list(range(start_latents,1401)))"
   ]
  },
  {
   "cell_type": "code",
   "execution_count": null,
   "metadata": {},
   "outputs": [
    {
     "name": "stdout",
     "output_type": "stream",
     "text": [
      "torch.Size([401, 5, 128, 24, 24])\n"
     ]
    }
   ],
   "source": [
    "print(latents.shape)"
   ]
  },
  {
   "cell_type": "code",
   "execution_count": null,
   "metadata": {},
   "outputs": [
    {
     "name": "stdout",
     "output_type": "stream",
     "text": [
      "    Performing TDA with embed_dim = 25, delay = 1, and X.shape = (401, 5, 128, 24, 24) (0.591GB)\n",
      "    Flattened X.shape = (401, 368640)\n",
      "    Normalize rows of X.shape = (401, 368640)\n",
      "    Reduced X.shape = (401, 401) (0.001GB)\n",
      "    Computed distance_matrix.shape = (376, 376)\n"
     ]
    }
   ],
   "source": [
    "#diagram, betti_nums, p_scores = get_tda(latents[:,:10,:,:,:].cpu().numpy())"
   ]
  },
  {
   "cell_type": "code",
   "execution_count": null,
   "metadata": {},
   "outputs": [
    {
     "name": "stdout",
     "output_type": "stream",
     "text": [
      "Using device: mps\n",
      "Loaded dt_net to mps\n"
     ]
    }
   ],
   "source": [
    "analysis = Analysis([51], 10, 'dt_net', list(range(1000,1401)), 25, 1, 0.5)"
   ]
  },
  {
   "cell_type": "code",
   "execution_count": null,
   "metadata": {},
   "outputs": [
    {
     "name": "stdout",
     "output_type": "stream",
     "text": [
      "Analyzing dt_net on 5 mazes of size 9 ...\n",
      "    Loaded mazes in 0.01s\n",
      "    Computed latent series in 0.73s\n",
      "    Performing TDA with embed_dim = 25, delay = 1, and X.shape = (401, 128, 24, 24) (0.118GB)\n",
      "    Flattened X.shape = (401, 73728)\n",
      "    Normalize rows of X.shape = (401, 73728)\n",
      "    Reduced X.shape = (401, 401) (0.001GB)\n",
      "    Computed distance_matrix.shape = (376, 376)\n",
      "    Analyzed maze 1 of 5 in 9.93s\n",
      "    Computed latent series in 0.72s\n",
      "    Performing TDA with embed_dim = 25, delay = 1, and X.shape = (401, 128, 24, 24) (0.118GB)\n",
      "    Flattened X.shape = (401, 73728)\n",
      "    Normalize rows of X.shape = (401, 73728)\n",
      "    Reduced X.shape = (401, 401) (0.001GB)\n",
      "    Computed distance_matrix.shape = (376, 376)\n",
      "    Analyzed maze 2 of 5 in 11.71s\n",
      "    Computed latent series in 0.72s\n",
      "    Performing TDA with embed_dim = 25, delay = 1, and X.shape = (401, 128, 24, 24) (0.118GB)\n",
      "    Flattened X.shape = (401, 73728)\n",
      "    Normalize rows of X.shape = (401, 73728)\n",
      "    Reduced X.shape = (401, 401) (0.001GB)\n",
      "    Computed distance_matrix.shape = (376, 376)\n",
      "    Analyzed maze 3 of 5 in 10.01s\n",
      "    Computed latent series in 0.72s\n",
      "    Performing TDA with embed_dim = 25, delay = 1, and X.shape = (401, 128, 24, 24) (0.118GB)\n",
      "    Flattened X.shape = (401, 73728)\n",
      "    Normalize rows of X.shape = (401, 73728)\n",
      "    Reduced X.shape = (401, 401) (0.001GB)\n",
      "    Computed distance_matrix.shape = (376, 376)\n",
      "    Analyzed maze 4 of 5 in 10.70s\n",
      "    Computed latent series in 0.72s\n",
      "    Performing TDA with embed_dim = 25, delay = 1, and X.shape = (401, 128, 24, 24) (0.118GB)\n",
      "    Flattened X.shape = (401, 73728)\n",
      "    Normalize rows of X.shape = (401, 73728)\n",
      "    Reduced X.shape = (401, 401) (0.001GB)\n",
      "    Computed distance_matrix.shape = (376, 376)\n",
      "    Analyzed maze 5 of 5 in 10.38s\n",
      "Analysis complete after 56.33s\n"
     ]
    }
   ],
   "source": [
    "analysis.analyze()"
   ]
  },
  {
   "cell_type": "code",
   "execution_count": null,
   "metadata": {},
   "outputs": [
    {
     "name": "stdout",
     "output_type": "stream",
     "text": [
      "[[[  1   0   0]\n",
      "  [375   0   0]\n",
      "  [  1   0   0]\n",
      "  [  1   0   0]\n",
      "  [  1   0   0]]]\n"
     ]
    }
   ],
   "source": [
    "print(analysis.betti_nums)"
   ]
  },
  {
   "cell_type": "code",
   "execution_count": null,
   "metadata": {},
   "outputs": [],
   "source": []
  }
 ],
 "metadata": {
  "kernelspec": {
   "display_name": "implicit-thinking",
   "language": "python",
   "name": "python3"
  },
  "language_info": {
   "codemirror_mode": {
    "name": "ipython",
    "version": 3
   },
   "file_extension": ".py",
   "mimetype": "text/x-python",
   "name": "python",
   "nbconvert_exporter": "python",
   "pygments_lexer": "ipython3",
   "version": "3.10.10"
  }
 },
 "nbformat": 4,
 "nbformat_minor": 2
}
